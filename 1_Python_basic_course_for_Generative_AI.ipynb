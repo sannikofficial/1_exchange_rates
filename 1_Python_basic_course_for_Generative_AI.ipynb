{
  "nbformat": 4,
  "nbformat_minor": 0,
  "metadata": {
    "colab": {
      "provenance": [],
      "include_colab_link": true
    },
    "kernelspec": {
      "name": "python3",
      "display_name": "Python 3"
    },
    "language_info": {
      "name": "python"
    }
  },
  "cells": [
    {
      "cell_type": "markdown",
      "metadata": {
        "id": "view-in-github",
        "colab_type": "text"
      },
      "source": [
        "<a href=\"https://colab.research.google.com/github/sannikofficial/1_exchange_rates/blob/main/1_Python_basic_course_for_Generative_AI.ipynb\" target=\"_parent\"><img src=\"https://colab.research.google.com/assets/colab-badge.svg\" alt=\"Open In Colab\"/></a>"
      ]
    },
    {
      "cell_type": "code",
      "source": [
        "# Найти длину строки\n",
        "\n",
        "string_input = \"Hello world\"\n",
        "space_symbols = \" \"\n",
        "\n",
        "len_string = len(string_input)\n",
        "len_space_symbols = len(space_symbols)\n",
        "\n",
        "print(f\"Всего символов: {len_string}\\nПробелов: {len_space_symbols}\\nТекстовых символов: {len_string - len_space_symbols}\")"
      ],
      "metadata": {
        "colab": {
          "base_uri": "https://localhost:8080/"
        },
        "id": "bC6u-8VYC_mI",
        "outputId": "a99ee923-4c45-4da5-e029-63053da993b8"
      },
      "execution_count": null,
      "outputs": [
        {
          "output_type": "stream",
          "name": "stdout",
          "text": [
            "Всего символов: 11\n",
            "Пробелов: 1\n",
            "Текстовых символов: 10\n"
          ]
        }
      ]
    },
    {
      "cell_type": "code",
      "source": [
        "# Обрезать пробелы в начале и конце строки\n",
        "\n",
        "text_space_1 = \"Hello, World \"\n",
        "\n",
        "print(text_space_1.strip())"
      ],
      "metadata": {
        "colab": {
          "base_uri": "https://localhost:8080/"
        },
        "id": "K94S4khIDAOr",
        "outputId": "581d6628-e5f7-4f83-84fb-4d2b54cbdb9b"
      },
      "execution_count": null,
      "outputs": [
        {
          "output_type": "stream",
          "name": "stdout",
          "text": [
            "Hello, World\n"
          ]
        }
      ]
    },
    {
      "cell_type": "code",
      "source": [
        "# Заменить подстроку\n",
        "text_space_1 = \"Hello, World\"\n",
        "\n",
        "text_space_1_split = text_space_1.split(\", \")\n",
        "\n",
        "print(text_space_1_split[0])\n",
        "print(text_space_1_split[1])"
      ],
      "metadata": {
        "colab": {
          "base_uri": "https://localhost:8080/"
        },
        "id": "aN7G094dDAQx",
        "outputId": "307c0721-6523-423c-8300-058cecad560d"
      },
      "execution_count": null,
      "outputs": [
        {
          "output_type": "stream",
          "name": "stdout",
          "text": [
            "Hello\n",
            "World\n"
          ]
        }
      ]
    },
    {
      "cell_type": "code",
      "source": [
        "# Разделить строку на подстроки\n",
        "text_space_1 = \"Hello, World\"\n",
        "\n",
        "print(text_space_1.replace(\"Hello\", \"Hi\"))"
      ],
      "metadata": {
        "id": "xYUjj4bdDATX"
      },
      "execution_count": null,
      "outputs": []
    },
    {
      "cell_type": "code",
      "source": [
        "# 6.1\n",
        "\n",
        "My_text = input(\"Введите слово: \")\n",
        "\n",
        "\"\"\"Text_output_1 = My_text[1:2:2]\n",
        "Text_output_2 = My_text[:2:2]\n",
        "Text_output_3 = My_text[::2]\"\"\"\n",
        "Text_output_4 = My_text[::-1]\n",
        "\n",
        "print(Text_output_4)\n"
      ],
      "metadata": {
        "colab": {
          "base_uri": "https://localhost:8080/"
        },
        "id": "cubmzHvKBIgx",
        "outputId": "22872f1d-c235-4970-aece-5df319b58cf0"
      },
      "execution_count": null,
      "outputs": [
        {
          "output_type": "stream",
          "name": "stdout",
          "text": [
            "Введите слово: Привет\n",
            "тевирП\n"
          ]
        }
      ]
    },
    {
      "cell_type": "code",
      "source": [
        "# 6.2\n",
        "\n",
        "text_1 = \"низкотемпературный\"\n",
        "\n",
        "print(f\"{text_1[0:3]} {text_1[3:6]}{text_1[11]}\")"
      ],
      "metadata": {
        "colab": {
          "base_uri": "https://localhost:8080/"
        },
        "id": "MvdzhEKkJYJw",
        "outputId": "34f280e4-1d10-4f8b-8dd5-3b6e2c962660"
      },
      "execution_count": null,
      "outputs": [
        {
          "output_type": "stream",
          "name": "stdout",
          "text": [
            "низ кота\n"
          ]
        }
      ]
    },
    {
      "cell_type": "code",
      "execution_count": null,
      "metadata": {
        "colab": {
          "base_uri": "https://localhost:8080/"
        },
        "id": "K90aEiAEtkX0",
        "outputId": "870576bc-7c6f-419e-87bb-9cc9c25e6308"
      },
      "outputs": [
        {
          "output_type": "stream",
          "name": "stdout",
          "text": [
            "False\n"
          ]
        }
      ],
      "source": [
        "# 6.3\n",
        "\n",
        "Word1 = \"тот\"\n",
        "Word2 = \"тот\"\n",
        "\n",
        "if Word1[::-1] == Word2:\n",
        "  print(True)\n",
        "else:\n",
        "  print(False)"
      ]
    },
    {
      "cell_type": "code",
      "source": [
        "# 6.3 - v2\n",
        "Word_1 = str(input(\"Введи полидром: \"))\n",
        "\n",
        "if Word_1 == Word_1[::-1]:\n",
        "  print(True)\n",
        "else:\n",
        "  print(False)"
      ],
      "metadata": {
        "colab": {
          "base_uri": "https://localhost:8080/"
        },
        "id": "OiruRmmMw0BP",
        "outputId": "c41e3369-4b30-418f-e535-7b2968d9f0df"
      },
      "execution_count": null,
      "outputs": [
        {
          "output_type": "stream",
          "name": "stdout",
          "text": [
            "Введи полидром: тот\n",
            "True\n"
          ]
        }
      ]
    },
    {
      "cell_type": "code",
      "source": [
        "# 6.4\n",
        "\n",
        "from posixpath import split\n",
        "word_1 = str(input(\"Введите слово:\"))\n",
        "\n",
        "word_2 = word_1.split()\n",
        "\n",
        "print(len(word_2))"
      ],
      "metadata": {
        "colab": {
          "base_uri": "https://localhost:8080/"
        },
        "id": "RZDQbElduqk6",
        "outputId": "e0921413-6cd2-4ef7-8db0-f0e46bb88873"
      },
      "execution_count": null,
      "outputs": [
        {
          "output_type": "stream",
          "name": "stdout",
          "text": [
            "Введите слово:Привет, как дела?\n",
            "3\n"
          ]
        }
      ]
    },
    {
      "cell_type": "code",
      "source": [
        "# 7.1\n",
        "\n",
        "word_10 = input(\"Введите число:\")\n",
        "\n",
        "try:\n",
        "    # Попробуем преобразовать ввод в int\n",
        "    value_int = int(word_10)\n",
        "    if value_int % 2 == 0:\n",
        "        print(\"четное целое\")\n",
        "    else:\n",
        "        print(\"нечетное целое\")\n",
        "except ValueError:\n",
        "    try:\n",
        "        # Если не получилось преобразовать в int, попробуем в float\n",
        "        value_float = float(word_10)\n",
        "        print(\"дробное число\")\n",
        "    except ValueError:\n",
        "        # Если и это не получилось, значит это строка\n",
        "        print(\"Это строка\")"
      ],
      "metadata": {
        "colab": {
          "base_uri": "https://localhost:8080/"
        },
        "id": "e4JMrw14ybjb",
        "outputId": "69b14e69-e833-4f06-c8b6-8eba7103f305"
      },
      "execution_count": null,
      "outputs": [
        {
          "output_type": "stream",
          "name": "stdout",
          "text": [
            "Введите число:10.2\n",
            "дробное число\n"
          ]
        }
      ]
    },
    {
      "cell_type": "code",
      "source": [
        "# 7.2\n",
        "age = input(\"Сколько тебе лет? \")\n",
        "\n",
        "try:\n",
        "  age_int = int(age)\n",
        "  if age_int >= 18:\n",
        "    print(\"Можно\")\n",
        "  else:\n",
        "    print(\"Доступ запрещен\")\n",
        "\n",
        "except ValueError:\n",
        "  print(\"Значение введено некорректно\")"
      ],
      "metadata": {
        "colab": {
          "base_uri": "https://localhost:8080/"
        },
        "id": "6MUZReDU2HgT",
        "outputId": "2a1cbc09-9369-4ad4-e043-8365fb7e2038"
      },
      "execution_count": null,
      "outputs": [
        {
          "output_type": "stream",
          "name": "stdout",
          "text": [
            "Сколько тебе лет? 17.5\n",
            "Значение введено некорректно\n"
          ]
        }
      ]
    },
    {
      "cell_type": "code",
      "source": [
        "# 7.3\n",
        "\n",
        "input_count = input(\"Введите целое число: \")\n",
        "\n",
        "try:\n",
        "  input_count_2 = int(input_count)\n",
        "  if input_count_2 < 0:\n",
        "    print(\"Число отрицательное\")\n",
        "  elif input_count_2 > 0:\n",
        "    print(\"Число положительное\")\n",
        "  else:\n",
        "    print(\"Число равно нулю\")\n",
        "\n",
        "except ValueError:\n",
        "  print(\"Ошибка, попробуйте еще раз ввести целое число\")"
      ],
      "metadata": {
        "colab": {
          "base_uri": "https://localhost:8080/"
        },
        "id": "umG-Y5MVK5PR",
        "outputId": "cdaa7727-dfae-4c86-eea6-e925d021ab4d"
      },
      "execution_count": null,
      "outputs": [
        {
          "output_type": "stream",
          "name": "stdout",
          "text": [
            "Введите целое число: -500\n",
            "Число отрицательное\n"
          ]
        }
      ]
    },
    {
      "cell_type": "code",
      "source": [
        "# 7.4\n",
        "\n",
        "login = input(\"Введи логин: \")\n",
        "password = input(\"Введи пароль: \")\n",
        "\n",
        "if login == \"неуловимыйхакер\" and password == \"ромашка1998\":\n",
        "  print(\"Логин и пароль совпадает\")\n",
        "else:\n",
        "  print(\"Логин и пароль не совпадает, попробуй еще раз :(\")"
      ],
      "metadata": {
        "colab": {
          "base_uri": "https://localhost:8080/"
        },
        "id": "JQeknAWGLMhm",
        "outputId": "288ebaaa-b8a3-4675-9b2b-61109da1140f"
      },
      "execution_count": null,
      "outputs": [
        {
          "output_type": "stream",
          "name": "stdout",
          "text": [
            "Введи логин: неуловимыйхакер\n",
            "Введи пароль: ромашка1998\n",
            "Логин и пароль совпадает\n"
          ]
        }
      ]
    },
    {
      "cell_type": "code",
      "source": [
        "# 8.1\n",
        "\n",
        "input_count_1 = input(\"Введите 1-е число: \")\n",
        "input_count_2 = input(\"Введите 2-е число: \")\n",
        "\n",
        "if input_count_1 > input_count_2:\n",
        "  print(input_count_1)\n",
        "elif input_count_1 < input_count_2:\n",
        "  print(input_count_2)\n",
        "else:\n",
        "  print(\"Числа равны\")"
      ],
      "metadata": {
        "colab": {
          "base_uri": "https://localhost:8080/"
        },
        "id": "7lBz6725MRPP",
        "outputId": "5f3ac5ee-2cc8-4891-fb2c-bd14ebb16bbc"
      },
      "execution_count": null,
      "outputs": [
        {
          "output_type": "stream",
          "name": "stdout",
          "text": [
            "Введите 1-е число: 2\n",
            "Введите 2-е число: 1\n",
            "2\n"
          ]
        }
      ]
    },
    {
      "cell_type": "code",
      "source": [
        "# 8.2\n",
        "\n",
        "def is_leap_year(year):\n",
        "    \"\"\"Функция для определения, является ли год високосным.\"\"\"\n",
        "    if (year % 4 == 0 and year % 100 != 0) or (year % 400 == 0):\n",
        "        return True\n",
        "    else:\n",
        "        return False\n",
        "\n",
        "# Примеры использования функции\n",
        "years = [2019, 2020]\n",
        "\n",
        "for yearss in years:\n",
        "    if is_leap_year(yearss):\n",
        "        print(f\"{yearss} год является високосным.\")\n",
        "    else:\n",
        "        print(f\"{yearss} год не является високосным.\")\n"
      ],
      "metadata": {
        "colab": {
          "base_uri": "https://localhost:8080/"
        },
        "id": "8BYHktTePEZN",
        "outputId": "51719623-bb57-4952-84fb-fb1ce016eb9c"
      },
      "execution_count": null,
      "outputs": [
        {
          "output_type": "stream",
          "name": "stdout",
          "text": [
            "2019 год не является високосным.\n",
            "2020 год является високосным.\n"
          ]
        }
      ]
    },
    {
      "cell_type": "code",
      "source": [
        "# 8.3"
      ],
      "metadata": {
        "colab": {
          "base_uri": "https://localhost:8080/"
        },
        "id": "qGjYh7c8c7kP",
        "outputId": "67032d78-659b-4316-b41c-a3897b4c9196"
      },
      "execution_count": null,
      "outputs": [
        {
          "output_type": "stream",
          "name": "stdout",
          "text": [
            "2019 год не является високосным.\n",
            "2020 год является високосным.\n"
          ]
        }
      ]
    }
  ]
}